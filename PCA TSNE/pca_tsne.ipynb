{
 "cells": [
  {
   "cell_type": "code",
   "execution_count": 2,
   "metadata": {},
   "outputs": [],
   "source": [
    "# Core\n",
    "import numpy as np\n",
    "import pandas as pd\n",
    "pd.plotting.register_matplotlib_converters()\n",
    "import matplotlib.pyplot as plt\n",
    "%matplotlib inline\n",
    "import seaborn as sns\n",
    "sns.set(style='darkgrid', font_scale=1.4)\n",
    "import plotly.express as px\n",
    "\n",
    "# Sklearn\n",
    "from sklearn.decomposition import PCA\n",
    "from sklearn.manifold import TSNE\n",
    "from sklearn.discriminant_analysis import LinearDiscriminantAnalysis as LDA\n",
    "from sklearn.cluster import KMeans\n",
    "from sklearn.preprocessing import StandardScaler\n",
    "\n",
    "# UMAP\n",
    "import umap\n",
    "# import umap.plot\n"
   ]
  },
  {
   "cell_type": "code",
   "execution_count": 8,
   "metadata": {},
   "outputs": [
    {
     "name": "stdout",
     "output_type": "stream",
     "text": [
      "Note: you may need to restart the kernel to use updated packages.\n"
     ]
    },
    {
     "name": "stderr",
     "output_type": "stream",
     "text": [
      "ERROR: Could not find a version that satisfies the requirement umap.plot (from versions: none)\n",
      "ERROR: No matching distribution found for umap.plot\n",
      "\n",
      "[notice] A new release of pip is available: 23.2.1 -> 24.0\n",
      "[notice] To update, run: python.exe -m pip install --upgrade pip\n"
     ]
    }
   ],
   "source": [
    "%pip install umap.plot"
   ]
  },
  {
   "cell_type": "code",
   "execution_count": 4,
   "metadata": {},
   "outputs": [
    {
     "name": "stdout",
     "output_type": "stream",
     "text": [
      "Dataframe dimensions: (178, 13)\n"
     ]
    },
    {
     "data": {
      "text/html": [
       "<div>\n",
       "<style scoped>\n",
       "    .dataframe tbody tr th:only-of-type {\n",
       "        vertical-align: middle;\n",
       "    }\n",
       "\n",
       "    .dataframe tbody tr th {\n",
       "        vertical-align: top;\n",
       "    }\n",
       "\n",
       "    .dataframe thead th {\n",
       "        text-align: right;\n",
       "    }\n",
       "</style>\n",
       "<table border=\"1\" class=\"dataframe\">\n",
       "  <thead>\n",
       "    <tr style=\"text-align: right;\">\n",
       "      <th></th>\n",
       "      <th>Alcohol</th>\n",
       "      <th>Malic_Acid</th>\n",
       "      <th>Ash</th>\n",
       "      <th>Ash_Alcanity</th>\n",
       "      <th>Magnesium</th>\n",
       "      <th>Total_Phenols</th>\n",
       "      <th>Flavanoids</th>\n",
       "      <th>Nonflavanoid_Phenols</th>\n",
       "      <th>Proanthocyanins</th>\n",
       "      <th>Color_Intensity</th>\n",
       "      <th>Hue</th>\n",
       "      <th>OD280</th>\n",
       "      <th>Proline</th>\n",
       "    </tr>\n",
       "  </thead>\n",
       "  <tbody>\n",
       "    <tr>\n",
       "      <th>0</th>\n",
       "      <td>14.23</td>\n",
       "      <td>1.71</td>\n",
       "      <td>2.43</td>\n",
       "      <td>15.6</td>\n",
       "      <td>127</td>\n",
       "      <td>2.80</td>\n",
       "      <td>3.06</td>\n",
       "      <td>0.28</td>\n",
       "      <td>2.29</td>\n",
       "      <td>5.64</td>\n",
       "      <td>1.04</td>\n",
       "      <td>3.92</td>\n",
       "      <td>1065</td>\n",
       "    </tr>\n",
       "    <tr>\n",
       "      <th>1</th>\n",
       "      <td>13.20</td>\n",
       "      <td>1.78</td>\n",
       "      <td>2.14</td>\n",
       "      <td>11.2</td>\n",
       "      <td>100</td>\n",
       "      <td>2.65</td>\n",
       "      <td>2.76</td>\n",
       "      <td>0.26</td>\n",
       "      <td>1.28</td>\n",
       "      <td>4.38</td>\n",
       "      <td>1.05</td>\n",
       "      <td>3.40</td>\n",
       "      <td>1050</td>\n",
       "    </tr>\n",
       "    <tr>\n",
       "      <th>2</th>\n",
       "      <td>13.16</td>\n",
       "      <td>2.36</td>\n",
       "      <td>2.67</td>\n",
       "      <td>18.6</td>\n",
       "      <td>101</td>\n",
       "      <td>2.80</td>\n",
       "      <td>3.24</td>\n",
       "      <td>0.30</td>\n",
       "      <td>2.81</td>\n",
       "      <td>5.68</td>\n",
       "      <td>1.03</td>\n",
       "      <td>3.17</td>\n",
       "      <td>1185</td>\n",
       "    </tr>\n",
       "    <tr>\n",
       "      <th>3</th>\n",
       "      <td>14.37</td>\n",
       "      <td>1.95</td>\n",
       "      <td>2.50</td>\n",
       "      <td>16.8</td>\n",
       "      <td>113</td>\n",
       "      <td>3.85</td>\n",
       "      <td>3.49</td>\n",
       "      <td>0.24</td>\n",
       "      <td>2.18</td>\n",
       "      <td>7.80</td>\n",
       "      <td>0.86</td>\n",
       "      <td>3.45</td>\n",
       "      <td>1480</td>\n",
       "    </tr>\n",
       "    <tr>\n",
       "      <th>4</th>\n",
       "      <td>13.24</td>\n",
       "      <td>2.59</td>\n",
       "      <td>2.87</td>\n",
       "      <td>21.0</td>\n",
       "      <td>118</td>\n",
       "      <td>2.80</td>\n",
       "      <td>2.69</td>\n",
       "      <td>0.39</td>\n",
       "      <td>1.82</td>\n",
       "      <td>4.32</td>\n",
       "      <td>1.04</td>\n",
       "      <td>2.93</td>\n",
       "      <td>735</td>\n",
       "    </tr>\n",
       "  </tbody>\n",
       "</table>\n",
       "</div>"
      ],
      "text/plain": [
       "   Alcohol  Malic_Acid   Ash  Ash_Alcanity  Magnesium  Total_Phenols  \\\n",
       "0    14.23        1.71  2.43          15.6        127           2.80   \n",
       "1    13.20        1.78  2.14          11.2        100           2.65   \n",
       "2    13.16        2.36  2.67          18.6        101           2.80   \n",
       "3    14.37        1.95  2.50          16.8        113           3.85   \n",
       "4    13.24        2.59  2.87          21.0        118           2.80   \n",
       "\n",
       "   Flavanoids  Nonflavanoid_Phenols  Proanthocyanins  Color_Intensity   Hue  \\\n",
       "0        3.06                  0.28             2.29             5.64  1.04   \n",
       "1        2.76                  0.26             1.28             4.38  1.05   \n",
       "2        3.24                  0.30             2.81             5.68  1.03   \n",
       "3        3.49                  0.24             2.18             7.80  0.86   \n",
       "4        2.69                  0.39             1.82             4.32  1.04   \n",
       "\n",
       "   OD280  Proline  \n",
       "0   3.92     1065  \n",
       "1   3.40     1050  \n",
       "2   3.17     1185  \n",
       "3   3.45     1480  \n",
       "4   2.93      735  "
      ]
     },
     "execution_count": 4,
     "metadata": {},
     "output_type": "execute_result"
    }
   ],
   "source": [
    "data=pd.read_csv('./wine-clustering.csv')\n",
    "\n",
    "# Dimensions\n",
    "print('Dataframe dimensions:',data.shape)\n",
    "\n",
    "# First 5 entries of training data\n",
    "data.head()"
   ]
  },
  {
   "cell_type": "code",
   "execution_count": 5,
   "metadata": {},
   "outputs": [
    {
     "name": "stdout",
     "output_type": "stream",
     "text": [
      "Missing values in dataset: 0\n",
      "\n",
      "Duplicates in dataset: 0, (0.0%)\n",
      "\n",
      "Data types: [dtype('float64') dtype('int64')]\n"
     ]
    }
   ],
   "source": [
    "print(f'Missing values in dataset: {data.isna().sum().sum()}')\n",
    "print('')\n",
    "print(f'Duplicates in dataset: {data.duplicated().sum()}, ({np.round(100*data.duplicated().sum()/len(data),1)}%)')\n",
    "print('')\n",
    "print(f'Data types: {data.dtypes.unique()}')"
   ]
  },
  {
   "cell_type": "code",
   "execution_count": 6,
   "metadata": {},
   "outputs": [],
   "source": [
    "# This scales each column to have mean=0 and standard deviation=1\n",
    "SS=StandardScaler()\n",
    "\n",
    "# Apply scaling\n",
    "X=pd.DataFrame(SS.fit_transform(data), columns=data.columns)"
   ]
  },
  {
   "cell_type": "code",
   "execution_count": 7,
   "metadata": {},
   "outputs": [
    {
     "name": "stdout",
     "output_type": "stream",
     "text": [
      "(178, 2)\n"
     ]
    },
    {
     "data": {
      "text/html": [
       "<div>\n",
       "<style scoped>\n",
       "    .dataframe tbody tr th:only-of-type {\n",
       "        vertical-align: middle;\n",
       "    }\n",
       "\n",
       "    .dataframe tbody tr th {\n",
       "        vertical-align: top;\n",
       "    }\n",
       "\n",
       "    .dataframe thead th {\n",
       "        text-align: right;\n",
       "    }\n",
       "</style>\n",
       "<table border=\"1\" class=\"dataframe\">\n",
       "  <thead>\n",
       "    <tr style=\"text-align: right;\">\n",
       "      <th></th>\n",
       "      <th>PC1</th>\n",
       "      <th>PC2</th>\n",
       "    </tr>\n",
       "  </thead>\n",
       "  <tbody>\n",
       "    <tr>\n",
       "      <th>0</th>\n",
       "      <td>3.316751</td>\n",
       "      <td>-1.443463</td>\n",
       "    </tr>\n",
       "    <tr>\n",
       "      <th>1</th>\n",
       "      <td>2.209465</td>\n",
       "      <td>0.333393</td>\n",
       "    </tr>\n",
       "    <tr>\n",
       "      <th>2</th>\n",
       "      <td>2.516740</td>\n",
       "      <td>-1.031151</td>\n",
       "    </tr>\n",
       "    <tr>\n",
       "      <th>3</th>\n",
       "      <td>3.757066</td>\n",
       "      <td>-2.756372</td>\n",
       "    </tr>\n",
       "    <tr>\n",
       "      <th>4</th>\n",
       "      <td>1.008908</td>\n",
       "      <td>-0.869831</td>\n",
       "    </tr>\n",
       "  </tbody>\n",
       "</table>\n",
       "</div>"
      ],
      "text/plain": [
       "        PC1       PC2\n",
       "0  3.316751 -1.443463\n",
       "1  2.209465  0.333393\n",
       "2  2.516740 -1.031151\n",
       "3  3.757066 -2.756372\n",
       "4  1.008908 -0.869831"
      ]
     },
     "execution_count": 7,
     "metadata": {},
     "output_type": "execute_result"
    }
   ],
   "source": [
    "# PCA\n",
    "pca = PCA(n_components=2)\n",
    "X_pca = pca.fit_transform(X)\n",
    "\n",
    "# Convert to data frame\n",
    "principal_df = pd.DataFrame(data = X_pca, columns = ['PC1', 'PC2'])\n",
    "\n",
    "# Shape and preview\n",
    "print(principal_df.shape)\n",
    "principal_df.head()"
   ]
  },
  {
   "cell_type": "code",
   "execution_count": 8,
   "metadata": {},
   "outputs": [
    {
     "data": {
      "text/plain": [
       "Text(0, 0.5, 'PC2')"
      ]
     },
     "execution_count": 8,
     "metadata": {},
     "output_type": "execute_result"
    },
    {
     "data": {
      "image/png": "[encoded data removed]",
      "text/plain": [
       "<Figure size 800x600 with 1 Axes>"
      ]
     },
     "metadata": {},
     "output_type": "display_data"
    }
   ],
   "source": [
    "# Figure size\n",
    "plt.figure(figsize=(8,6))\n",
    "\n",
    "# Scatterplot\n",
    "plt.scatter(principal_df.iloc[:,0], principal_df.iloc[:,1], s=40)\n",
    "\n",
    "# Aesthetics\n",
    "plt.title('PCA plot in 2D')\n",
    "plt.xlabel('PC1')\n",
    "plt.ylabel('PC2')"
   ]
  },
  {
   "cell_type": "code",
   "execution_count": null,
   "metadata": {},
   "outputs": [],
   "source": []
  },
  {
   "cell_type": "code",
   "execution_count": 9,
   "metadata": {},
   "outputs": [
    {
     "name": "stderr",
     "output_type": "stream",
     "text": [
      "c:\\Users\\OMEN 0136AX\\AppData\\Local\\Programs\\Python\\Python311\\Lib\\site-packages\\sklearn\\base.py:464: UserWarning: X does not have valid feature names, but PCA was fitted with feature names\n",
      "  warnings.warn(\n"
     ]
    }
   ],
   "source": [
    "# KMeans\n",
    "kmeans = KMeans(n_clusters=3, n_init=15, max_iter=500, random_state=0)\n",
    "\n",
    "# Train and make predictions\n",
    "clusters = kmeans.fit_predict(X)\n",
    "\n",
    "# Cluster centers\n",
    "centroids = kmeans.cluster_centers_\n",
    "centroids_pca = pca.transform(centroids)"
   ]
  },
  {
   "cell_type": "code",
   "execution_count": 10,
   "metadata": {},
   "outputs": [
    {
     "data": {
      "text/plain": [
       "Text(0, 0.5, 'PC2')"
      ]
     },
     "execution_count": 10,
     "metadata": {},
     "output_type": "execute_result"
    },
    {
     "data": {
      "image/png": "[encoded data removed]",
      "text/plain": [
       "<Figure size 800x600 with 1 Axes>"
      ]
     },
     "metadata": {},
     "output_type": "display_data"
    }
   ],
   "source": [
    "# Figure size\n",
    "plt.figure(figsize=(8,6))\n",
    "\n",
    "# Scatterplot\n",
    "plt.scatter(principal_df.iloc[:,0], principal_df.iloc[:,1], c=clusters, cmap=\"brg\", s=40)\n",
    "plt.scatter(x=centroids_pca[:,0], y=centroids_pca[:,1], marker=\"x\", s=500, linewidths=3, color=\"black\")\n",
    "\n",
    "# Aesthetics\n",
    "plt.title('PCA plot in 2D')\n",
    "plt.xlabel('PC1')\n",
    "plt.ylabel('PC2')"
   ]
  },
  {
   "cell_type": "code",
   "execution_count": 15,
   "metadata": {},
   "outputs": [
    {
     "data": {
      "application/vnd.plotly.v1+json": {
       "config": {
        "plotlyServerURL": "https://plot.ly"
       },
       "data": [
        {
         "hovertemplate": "PC 1=%{x}<br>PC 2=%{y}<br>PC 3=%{z}<br>size=%{marker.size}<br>color=%{marker.color}<extra></extra>",
         "legendgroup": "",
         "marker": {
          "color": [
           2,
           2,
           2,
           2,
           2,
           2,
           2,
           2,
           2,
           2,
           2,
           2,
           2,
           2,
           2,
           2,
           2,
           2,
           2,
           2,
           2,
           2,
           2,
           2,
           2,
           2,
           2,
           2,
           2,
           2,
           2,
           2,
           2,
           2,
           2,
           2,
           2,
           2,
           2,
           2,
           2,
           2,
           2,
           2,
           2,
           2,
           2,
           2,
           2,
           2,
           2,
           2,
           2,
           2,
           2,
           2,
           2,
           2,
           2,
           0,
           0,
           1,
           0,
           0,
           0,
           0,
           0,
           0,
           0,
           0,
           0,
           0,
           0,
           2,
           0,
           0,
           0,
           0,
           0,
           0,
           0,
           0,
           0,
           1,
           0,
           0,
           0,
           0,
           0,
           0,
           0,
           0,
           0,
           0,
           0,
           2,
           0,
           0,
           0,
           0,
           0,
           0,
           0,
           0,
           0,
           0,
           0,
           0,
           0,
           0,
           0,
           0,
           0,
           0,
           0,
           0,
           0,
           0,
           1,
           0,
           0,
           2,
           0,
           0,
           0,
           0,
           0,
           0,
           0,
           0,
           1,
           1,
           1,
           1,
           1,
           1,
           1,
           1,
           1,
           1,
           1,
           1,
           1,
           1,
           1,
           1,
           1,
           1,
           1,
           1,
           1,
           1,
           1,
           1,
           1,
           1,
           1,
           1,
           1,
           1,
           1,
           1,
           1,
           1,
           1,
           1,
           1,
           1,
           1,
           1,
           1,
           1,
           1,
           1,
           1,
           1,
           1,
           1
          ],
          "coloraxis": "coloraxis",
          "opacity": 1,
          "size": [
           0.1,
           0.1,
           0.1,
           0.1,
           0.1,
           0.1,
           0.1,
           0.1,
           0.1,
           0.1,
           0.1,
           0.1,
           0.1,
           0.1,
           0.1,
           0.1,
           0.1,
           0.1,
           0.1,
           0.1,
           0.1,
           0.1,
           0.1,
           0.1,
           0.1,
           0.1,
           0.1,
           0.1,
           0.1,
           0.1,
           0.1,
           0.1,
           0.1,
           0.1,
           0.1,
           0.1,
           0.1,
           0.1,
           0.1,
           0.1,
           0.1,
           0.1,
           0.1,
           0.1,
           0.1,
           0.1,
           0.1,
           0.1,
           0.1,
           0.1,
           0.1,
           0.1,
           0.1,
           0.1,
           0.1,
           0.1,
           0.1,
           0.1,
           0.1,
           0.1,
           0.1,
           0.1,
           0.1,
           0.1,
           0.1,
           0.1,
           0.1,
           0.1,
           0.1,
           0.1,
           0.1,
           0.1,
           0.1,
           0.1,
           0.1,
           0.1,
           0.1,
           0.1,
           0.1,
           0.1,
           0.1,
           0.1,
           0.1,
           0.1,
           0.1,
           0.1,
           0.1,
           0.1,
           0.1,
           0.1,
           0.1,
           0.1,
           0.1,
           0.1,
           0.1,
           0.1,
           0.1,
           0.1,
           0.1,
           0.1,
           0.1,
           0.1,
           0.1,
           0.1,
           0.1,
           0.1,
           0.1,
           0.1,
           0.1,
           0.1,
           0.1,
           0.1,
           0.1,
           0.1,
           0.1,
           0.1,
           0.1,
           0.1,
           0.1,
           0.1,
           0.1,
           0.1,
           0.1,
           0.1,
           0.1,
           0.1,
           0.1,
           0.1,
           0.1,
           0.1,
           0.1,
           0.1,
           0.1,
           0.1,
           0.1,
           0.1,
           0.1,
           0.1,
           0.1,
           0.1,
           0.1,
           0.1,
           0.1,
           0.1,
           0.1,
           0.1,
           0.1,
           0.1,
           0.1,
           0.1,
           0.1,
           0.1,
           0.1,
           0.1,
           0.1,
           0.1,
           0.1,
           0.1,
           0.1,
           0.1,
           0.1,
           0.1,
           0.1,
           0.1,
           0.1,
           0.1,
           0.1,
           0.1,
           0.1,
           0.1,
           0.1,
           0.1,
           0.1,
           0.1,
           0.1,
           0.1,
           0.1,
           0.1
          ],
          "sizemode": "area",
          "sizeref": 0.00025,
          "symbol": "circle"
         },
         "mode": "markers",
         "name": "",
         "scene": "scene",
         "showlegend": false,
         "type": "scatter3d",
         "x": [
          3.3167508122147793,
          2.2094649169188467,
          2.5167401466103825,
          3.7570656097732025,
          1.008908493795715,
          3.0502539224180754,
          2.449089669596232,
          2.0594368714379137,
          2.5108742973989884,
          2.7536281876339106,
          3.4797366827312124,
          1.754752901294589,
          2.113462340315096,
          3.4581568193367205,
          4.312783906765563,
          2.305188200827973,
          2.1719552737415126,
          1.898971176562762,
          3.5419850819434697,
          2.0845222047303134,
          3.1244025351672016,
          1.0865700683322403,
          2.535224079903715,
          1.6449883412544697,
          1.7615758722693005,
          0.9900791016088548,
          1.7752776281133686,
          1.2354239643099056,
          2.1884063344519618,
          2.256108981283708,
          2.5002200257894254,
          2.6774110474440156,
          1.6285791164309185,
          1.902690862238148,
          1.4103885265954061,
          1.9038262321944863,
          1.3848622303748388,
          1.12220741044131,
          1.5021945006181923,
          2.529801092371812,
          2.5880954258544038,
          0.6684819937541869,
          3.070806990412009,
          0.46220913751600756,
          2.101351930538016,
          1.1361661775610186,
          2.726600963640804,
          2.82133927419225,
          2.009850850912358,
          2.7074913042663953,
          3.2149174747738245,
          2.8589598267172938,
          3.5056043559232237,
          2.2247913805321726,
          2.146987823563867,
          2.4693294837977877,
          2.7415179142774533,
          2.173740920965307,
          3.1393801518289957,
          -0.9285819689218545,
          -1.5424801378968815,
          -1.8362497634669395,
          0.030606834086680586,
          2.0502616075763163,
          -0.6096808271776227,
          0.9002278387071428,
          2.2485071907983953,
          0.1833840266847562,
          -0.8128050273520729,
          1.975620498798555,
          -1.572216219626301,
          1.657681808833288,
          -0.7253723880353563,
          2.5622271731703603,
          1.832567570049547,
          -0.8679929031954117,
          0.37001440429478333,
          -1.4573770449061396,
          1.262930849728498,
          0.37615037193424006,
          0.7620639041095986,
          1.034577967165187,
          -0.494876755680329,
          -2.5389770842951203,
          0.8353201453942964,
          0.7879046149897093,
          -0.80683215596554,
          -0.5580426248756837,
          -1.1151110419194477,
          -0.5557228299517032,
          -1.3492852824437322,
          -1.5644826057199073,
          -1.9325556106314647,
          0.7466659419884498,
          0.9574553638036407,
          2.5438651841995523,
          -0.5439525887762298,
          1.0310497503881484,
          2.251909422148125,
          1.410216015337459,
          0.7977197926930414,
          -0.5495317266494644,
          -0.16117373994854609,
          -0.6597949416843607,
          0.3923544081850824,
          -1.7724990779600351,
          -0.36626735735206495,
          -1.6206725727874802,
          0.08253578349332695,
          1.5782750709323803,
          1.4205692478240166,
          -0.278702753648855,
          -1.303144966248282,
          -0.4570718656526258,
          -0.49418584704437596,
          0.4820744097730922,
          -0.25288887765320095,
          -0.10722763772912408,
          -2.4330126025502183,
          -0.5510895391746513,
          0.7396219285682212,
          1.3363217334183284,
          -1.1770869962477741,
          -0.4623350080196802,
          0.9784740793566475,
          -0.09680972631598606,
          0.038487145949024075,
          -1.5971585012074736,
          -0.4795649160831267,
          -1.7928334730311453,
          -1.3271016561416011,
          -2.38450083474353,
          -2.9369401021466133,
          -2.146811133816064,
          -2.369869488333043,
          -3.0638415687203544,
          -3.9157537837118914,
          -3.9364633907159647,
          -3.0942761177622757,
          -2.3744716280069236,
          -2.7788129476325154,
          -2.2865612847384695,
          -2.985633487449467,
          -2.3751946982271077,
          -2.2098655255958706,
          -2.625621004692722,
          -4.280638778751087,
          -3.5826413720011048,
          -2.807063720081659,
          -2.8996593330239095,
          -2.3207369765492034,
          -2.5498309472261353,
          -1.8125412848422993,
          -2.76014464192395,
          -2.737150500667991,
          -3.6048688681834253,
          -2.8898259968735065,
          -3.3921560768357213,
          -1.048181896853678,
          -1.6099122828479355,
          -3.1431309667439753,
          -2.2401568962695424,
          -2.8476737761195206,
          -2.5974970566487645,
          -2.949299373134844,
          -3.5300322663493127,
          -2.406110540478552,
          -2.9290847269674547,
          -2.181412778812621,
          -2.3809277871356396,
          -3.2116172150412488,
          -3.677918720973816,
          -2.4655557980404486,
          -3.37052414544286,
          -2.601955851224738,
          -2.6778394608645013,
          -2.3870170912797186,
          -3.2087581641980223
         ],
         "y": [
          -1.443462634318008,
          0.33339288708029974,
          -1.0311512962743195,
          -2.7563719137107134,
          -0.8698308214172057,
          -2.1224011146341932,
          -1.1748501316494746,
          -1.6089630683635094,
          -0.9180709573337776,
          -0.7894376738336063,
          -1.302333237123596,
          -0.6119772287456317,
          -0.6757063391426196,
          -1.130629876172938,
          -2.095975575341263,
          -1.6625517299890573,
          -2.327305336191421,
          -1.6313688786428393,
          -2.5183436693066477,
          -1.061137993583861,
          -0.7868971056508952,
          -0.24174355133284045,
          0.09184062072088034,
          0.5162789300672355,
          0.3171489326843808,
          -0.9406673381906354,
          -0.6861751342850241,
          0.08980704136064013,
          -0.6895696206616254,
          -0.19146193688666546,
          -1.2408338348969439,
          -1.4718736461032496,
          -0.05270445057532381,
          -1.633060434769985,
          -0.6979343246113572,
          -0.17671095109545634,
          -0.6586398536611492,
          -0.11410976029688827,
          0.7694320064310095,
          -1.8030019760618299,
          -0.7796163041925077,
          -0.1699609406198756,
          -1.1559189566098835,
          -0.33074213219227544,
          0.07100892095406723,
          -1.7771073929776398,
          -1.1913346919571852,
          -0.6462585991417036,
          -1.247029460678761,
          -1.7519674072063387,
          -0.1669919949967907,
          -0.7452788039895893,
          -1.6127338560350117,
          -1.8751679995630262,
          -1.0167515377576601,
          -1.3290083106496229,
          -1.4365487835125155,
          -1.212199840697795,
          -1.7315791159925138,
          3.073486163188931,
          1.3814435080942298,
          0.8299841230557191,
          1.2627861442114034,
          1.925032604650103,
          1.9080588050851892,
          0.7639114736096095,
          1.884592484550135,
          2.4271461147035724,
          0.22051398690226973,
          1.4032832253096164,
          0.8849831369082228,
          0.9567121974591489,
          1.0636454007060951,
          -0.2601985506545973,
          1.2878781978605267,
          2.444101185580866,
          2.15390697515699,
          1.3833517690762602,
          0.770849529970118,
          1.0270434033558222,
          3.375053809963537,
          1.4507097382440926,
          2.381243526767371,
          0.08744335730498183,
          1.473670551400869,
          2.0266265224624784,
          2.233830390843913,
          2.372985428849456,
          1.8022471916654546,
          2.657540035392294,
          2.1180014697848195,
          1.8522145217655512,
          1.5594954568986223,
          2.312931709220741,
          2.223528434667462,
          -0.16927402279974063,
          0.36892654587731677,
          2.5655693487335256,
          1.4327413803542566,
          2.166191769370385,
          2.3769488030818633,
          2.2931286432456286,
          1.164483321560016,
          2.679961185989636,
          2.098731708765538,
          1.717288469376143,
          2.1693532978292844,
          1.3555833880259578,
          2.3062345877483263,
          1.4620342902048176,
          1.4182066376337508,
          1.9305680886704684,
          0.7631723136577917,
          2.2694156075896763,
          1.939045049486833,
          3.8717838484072415,
          2.8214923747015934,
          1.9289220425669598,
          1.2571410404943946,
          2.2221615507766233,
          1.4089566673657135,
          -0.2533369311683053,
          0.6639668398015703,
          0.6182881794850416,
          1.4455704988958276,
          2.1099979931352273,
          1.2667621091578858,
          1.2081435741284858,
          1.938840660394049,
          1.1502881044421054,
          -0.1703892320490273,
          -0.3745826055246935,
          -0.2638618300683805,
          -0.3682549518864614,
          0.45963480923116745,
          -0.3534128354584027,
          -0.1545825194417331,
          -0.6596872334097833,
          -0.3488427592737965,
          -0.2919803515599948,
          -0.286804872882175,
          -0.372507844685299,
          -0.48921790834701323,
          -0.4823337172448785,
          -1.1600525041576428,
          -0.5631607642108349,
          -0.6496709640237069,
          -1.2727027497273018,
          -1.5705337870411984,
          -2.041057007938465,
          -2.356366075556675,
          -2.0452830910195248,
          -1.5276459462687515,
          -2.138932347642612,
          -0.40988627088179025,
          -1.8023842175839682,
          -1.9252186131303437,
          -1.311876388473597,
          -3.515089691219733,
          -2.406638159574329,
          -0.7381610441757976,
          -1.1754652881188659,
          -0.5560439658826745,
          -0.6979655372009199,
          -1.5553089642839844,
          -0.8825267962042368,
          -2.5923561750424,
          -1.2744469479044829,
          -2.0775373127345165,
          -2.588667432418592,
          0.2512491044255919,
          -0.8477478441497629,
          -2.193798303654094,
          -2.216289139861138,
          -1.7572293509792758,
          -2.760899131674547,
          -2.2973466797128195,
          -2.7689195660475763
         ],
         "z": [
          -0.16573904461441813,
          -2.026457373807535,
          0.9828186702120608,
          -0.17619184219949255,
          2.0266882192354068,
          -0.6293958270439131,
          -0.9770948907141962,
          0.14628188306155773,
          -1.7709690272289413,
          -0.9842474895182352,
          -0.42273521658084623,
          -1.1908783196301747,
          -0.865086425616654,
          -1.20427635253819,
          -1.263912752357998,
          0.21790261559595733,
          0.8317298659860077,
          0.7949137923810701,
          -0.48545850766629217,
          -0.16474667849947486,
          -0.36488708298884576,
          0.9369615996106436,
          -0.31193265934797,
          0.14388509467079505,
          0.8902856474056885,
          3.820908008194836,
          -0.08670040648876326,
          -1.3868965448964359,
          1.3945668808503588,
          -1.0926572575082931,
          1.3860178547156792,
          -0.3322617283750929,
          -0.16712870624533413,
          1.1720821191753439,
          0.47974302516866135,
          0.45083504003720903,
          0.4584385808520615,
          -0.039107276689748977,
          -1.4261773458904603,
          -0.3431523889796925,
          -0.11847746611373544,
          -0.7833625480611457,
          -0.31275808393415405,
          -0.20147649625677264,
          -0.6558494150434337,
          0.02870573578475026,
          -0.5397732611476731,
          -1.155552410727406,
          -0.05729398793992185,
          -0.6431136120007939,
          -1.9735716799013707,
          0.004719502164697586,
          -0.5207745300761747,
          0.33954985035420804,
          -0.9577627619503264,
          0.5134374530359704,
          -0.6124733957169581,
          0.26177959277078977,
          -0.2856614126164483,
          -4.585064007148204,
          -0.8746831124458102,
          -1.6057021863206193,
          -1.7844080104188542,
          -0.007368777349816208,
          0.6793579379775353,
          0.5733613020971919,
          -2.031840192867584,
          -1.0697455602477972,
          -0.707005395800968,
          -1.2382762196848636,
          -0.6289979502315933,
          1.9525842166061977,
          0.08033222861543712,
          3.3743939622397563,
          0.4582800273995591,
          -1.5633331789503782,
          -2.4493863483037366,
          -0.22730690232730594,
          -1.1842245173752401,
          1.794466294542657,
          -0.35747005553946426,
          -0.36301177316396,
          1.3357431762848657,
          0.4742513927691465,
          0.6100935756921076,
          -0.2547234039695496,
          0.7728557971982641,
          2.3076114040120017,
          0.9592533076886536,
          0.8491268977432251,
          -0.047652320848691955,
          0.7810670309346314,
          -0.08927467610867798,
          0.11467976874541568,
          0.14244477369872566,
          0.7886969907454774,
          1.3088959318568592,
          -1.0863901738177382,
          -0.23020824379781235,
          0.7488964107708789,
          -1.568112531275526,
          -1.4989353232010763,
          1.0037131028373552,
          -0.7649208684795133,
          -0.471850007609738,
          0.9470331744608648,
          -0.4813242347422898,
          0.2871590006956172,
          -0.46357498937395236,
          1.779645954733284,
          0.13927582948819378,
          0.07867055304723433,
          1.999596510486852,
          1.0613389675926657,
          1.3239380723766927,
          1.3442712233930714,
          -0.3026397845306393,
          0.6901482425075123,
          -1.9030274044113502,
          -0.3562288302125354,
          1.1253454920042363,
          5.345388179195741,
          3.010221887946427,
          0.4834423663441804,
          1.4812369749959469,
          0.43482611561678886,
          0.68757791287281,
          3.361175555386427,
          1.2965075188296709,
          0.7828001731822636,
          -1.1800133553094843,
          -0.723822594811662,
          -0.16763981598372002,
          -0.4533013014691859,
          -1.1013997885920572,
          -1.099124104115341,
          0.2218277998410455,
          1.7122154192145331,
          -1.0268314134224519,
          1.2419143328305613,
          0.6096701239723704,
          -0.9716430323608546,
          0.9469529317999681,
          -0.25288399405333567,
          -1.2451252259210648,
          -0.8559610818033768,
          -1.4581969616385682,
          -0.11078403762472878,
          -0.4725279345720867,
          -0.49595981023509306,
          0.4376817436187627,
          -0.31226799865093,
          1.3625897815878723,
          -0.9646286882006792,
          -1.190404683966984,
          -0.09403686133597403,
          -0.7823225555084481,
          1.60202596890002,
          1.1600385659132273,
          0.5485596972407105,
          -0.09099872392222381,
          -0.1013769324961233,
          0.8042152181010267,
          -0.8849395211306335,
          -0.9834007272249412,
          -0.46602912777854116,
          0.42822621079957685,
          -1.213358271505149,
          0.763782551558119,
          1.4180440294968115,
          -0.8471291521285014,
          -1.3394202310855163,
          -0.9187809604264902,
          -0.34256951241432515,
          0.20758135498125047,
          -0.9409418766769954,
          -0.5506961970110869,
          1.0139136641131121
         ]
        }
       ],
       "layout": {
        "coloraxis": {
         "colorbar": {
          "title": {
           "text": "color"
          }
         },
         "colorscale": [
          [
           0,
           "#0d0887"
          ],
          [
           0.1111111111111111,
           "#46039f"
          ],
          [
           0.2222222222222222,
           "#7201a8"
          ],
          [
           0.3333333333333333,
           "#9c179e"
          ],
          [
           0.4444444444444444,
           "#bd3786"
          ],
          [
           0.5555555555555556,
           "#d8576b"
          ],
          [
           0.6666666666666666,
           "#ed7953"
          ],
          [
           0.7777777777777778,
           "#fb9f3a"
          ],
          [
           0.8888888888888888,
           "#fdca26"
          ],
          [
           1,
           "#f0f921"
          ]
         ]
        },
        "height": 500,
        "legend": {
         "itemsizing": "constant",
         "tracegroupgap": 0
        },
        "scene": {
         "domain": {
          "x": [
           0,
           1
          ],
          "y": [
           0,
           1
          ]
         },
         "xaxis": {
          "title": {
           "text": "PC 1"
          }
         },
         "yaxis": {
          "title": {
           "text": "PC 2"
          }
         },
         "zaxis": {
          "title": {
           "text": "PC 3"
          }
         }
        },
        "template": {
         "data": {
          "bar": [
           {
            "error_x": {
             "color": "#2a3f5f"
            },
            "error_y": {
             "color": "#2a3f5f"
            },
            "marker": {
             "line": {
              "color": "#E5ECF6",
              "width": 0.5
             },
             "pattern": {
              "fillmode": "overlay",
              "size": 10,
              "solidity": 0.2
             }
            },
            "type": "bar"
           }
          ],
          "barpolar": [
           {
            "marker": {
             "line": {
              "color": "#E5ECF6",
              "width": 0.5
             },
             "pattern": {
              "fillmode": "overlay",
              "size": 10,
              "solidity": 0.2
             }
            },
            "type": "barpolar"
           }
          ],
          "carpet": [
           {
            "aaxis": {
             "endlinecolor": "#2a3f5f",
             "gridcolor": "white",
             "linecolor": "white",
             "minorgridcolor": "white",
             "startlinecolor": "#2a3f5f"
            },
            "baxis": {
             "endlinecolor": "#2a3f5f",
             "gridcolor": "white",
             "linecolor": "white",
             "minorgridcolor": "white",
             "startlinecolor": "#2a3f5f"
            },
            "type": "carpet"
           }
          ],
          "choropleth": [
           {
            "colorbar": {
             "outlinewidth": 0,
             "ticks": ""
            },
            "type": "choropleth"
           }
          ],
          "contour": [
           {
            "colorbar": {
             "outlinewidth": 0,
             "ticks": ""
            },
            "colorscale": [
             [
              0,
              "#0d0887"
             ],
             [
              0.1111111111111111,
              "#46039f"
             ],
             [
              0.2222222222222222,
              "#7201a8"
             ],
             [
              0.3333333333333333,
              "#9c179e"
             ],
             [
              0.4444444444444444,
              "#bd3786"
             ],
             [
              0.5555555555555556,
              "#d8576b"
             ],
             [
              0.6666666666666666,
              "#ed7953"
             ],
             [
              0.7777777777777778,
              "#fb9f3a"
             ],
             [
              0.8888888888888888,
              "#fdca26"
             ],
             [
              1,
              "#f0f921"
             ]
            ],
            "type": "contour"
           }
          ],
          "contourcarpet": [
           {
            "colorbar": {
             "outlinewidth": 0,
             "ticks": ""
            },
            "type": "contourcarpet"
           }
          ],
          "heatmap": [
           {
            "colorbar": {
             "outlinewidth": 0,
             "ticks": ""
            },
            "colorscale": [
             [
              0,
              "#0d0887"
             ],
             [
              0.1111111111111111,
              "#46039f"
             ],
             [
              0.2222222222222222,
              "#7201a8"
             ],
             [
              0.3333333333333333,
              "#9c179e"
             ],
             [
              0.4444444444444444,
              "#bd3786"
             ],
             [
              0.5555555555555556,
              "#d8576b"
             ],
             [
              0.6666666666666666,
              "#ed7953"
             ],
             [
              0.7777777777777778,
              "#fb9f3a"
             ],
             [
              0.8888888888888888,
              "#fdca26"
             ],
             [
              1,
              "#f0f921"
             ]
            ],
            "type": "heatmap"
           }
          ],
          "heatmapgl": [
           {
            "colorbar": {
             "outlinewidth": 0,
             "ticks": ""
            },
            "colorscale": [
             [
              0,
              "#0d0887"
             ],
             [
              0.1111111111111111,
              "#46039f"
             ],
             [
              0.2222222222222222,
              "#7201a8"
             ],
             [
              0.3333333333333333,
              "#9c179e"
             ],
             [
              0.4444444444444444,
              "#bd3786"
             ],
             [
              0.5555555555555556,
              "#d8576b"
             ],
             [
              0.6666666666666666,
              "#ed7953"
             ],
             [
              0.7777777777777778,
              "#fb9f3a"
             ],
             [
              0.8888888888888888,
              "#fdca26"
             ],
             [
              1,
              "#f0f921"
             ]
            ],
            "type": "heatmapgl"
           }
          ],
          "histogram": [
           {
            "marker": {
             "pattern": {
              "fillmode": "overlay",
              "size": 10,
              "solidity": 0.2
             }
            },
            "type": "histogram"
           }
          ],
          "histogram2d": [
           {
            "colorbar": {
             "outlinewidth": 0,
             "ticks": ""
            },
            "colorscale": [
             [
              0,
              "#0d0887"
             ],
             [
              0.1111111111111111,
              "#46039f"
             ],
             [
              0.2222222222222222,
              "#7201a8"
             ],
             [
              0.3333333333333333,
              "#9c179e"
             ],
             [
              0.4444444444444444,
              "#bd3786"
             ],
             [
              0.5555555555555556,
              "#d8576b"
             ],
             [
              0.6666666666666666,
              "#ed7953"
             ],
             [
              0.7777777777777778,
              "#fb9f3a"
             ],
             [
              0.8888888888888888,
              "#fdca26"
             ],
             [
              1,
              "#f0f921"
             ]
            ],
            "type": "histogram2d"
           }
          ],
          "histogram2dcontour": [
           {
            "colorbar": {
             "outlinewidth": 0,
             "ticks": ""
            },
            "colorscale": [
             [
              0,
              "#0d0887"
             ],
             [
              0.1111111111111111,
              "#46039f"
             ],
             [
              0.2222222222222222,
              "#7201a8"
             ],
             [
              0.3333333333333333,
              "#9c179e"
             ],
             [
              0.4444444444444444,
              "#bd3786"
             ],
             [
              0.5555555555555556,
              "#d8576b"
             ],
             [
              0.6666666666666666,
              "#ed7953"
             ],
             [
              0.7777777777777778,
              "#fb9f3a"
             ],
             [
              0.8888888888888888,
              "#fdca26"
             ],
             [
              1,
              "#f0f921"
             ]
            ],
            "type": "histogram2dcontour"
           }
          ],
          "mesh3d": [
           {
            "colorbar": {
             "outlinewidth": 0,
             "ticks": ""
            },
            "type": "mesh3d"
           }
          ],
          "parcoords": [
           {
            "line": {
             "colorbar": {
              "outlinewidth": 0,
              "ticks": ""
             }
            },
            "type": "parcoords"
           }
          ],
          "pie": [
           {
            "automargin": true,
            "type": "pie"
           }
          ],
          "scatter": [
           {
            "fillpattern": {
             "fillmode": "overlay",
             "size": 10,
             "solidity": 0.2
            },
            "type": "scatter"
           }
          ],
          "scatter3d": [
           {
            "line": {
             "colorbar": {
              "outlinewidth": 0,
              "ticks": ""
             }
            },
            "marker": {
             "colorbar": {
              "outlinewidth": 0,
              "ticks": ""
             }
            },
            "type": "scatter3d"
           }
          ],
          "scattercarpet": [
           {
            "marker": {
             "colorbar": {
              "outlinewidth": 0,
              "ticks": ""
             }
            },
            "type": "scattercarpet"
           }
          ],
          "scattergeo": [
           {
            "marker": {
             "colorbar": {
              "outlinewidth": 0,
              "ticks": ""
             }
            },
            "type": "scattergeo"
           }
          ],
          "scattergl": [
           {
            "marker": {
             "colorbar": {
              "outlinewidth": 0,
              "ticks": ""
             }
            },
            "type": "scattergl"
           }
          ],
          "scattermapbox": [
           {
            "marker": {
             "colorbar": {
              "outlinewidth": 0,
              "ticks": ""
             }
            },
            "type": "scattermapbox"
           }
          ],
          "scatterpolar": [
           {
            "marker": {
             "colorbar": {
              "outlinewidth": 0,
              "ticks": ""
             }
            },
            "type": "scatterpolar"
           }
          ],
          "scatterpolargl": [
           {
            "marker": {
             "colorbar": {
              "outlinewidth": 0,
              "ticks": ""
             }
            },
            "type": "scatterpolargl"
           }
          ],
          "scatterternary": [
           {
            "marker": {
             "colorbar": {
              "outlinewidth": 0,
              "ticks": ""
             }
            },
            "type": "scatterternary"
           }
          ],
          "surface": [
           {
            "colorbar": {
             "outlinewidth": 0,
             "ticks": ""
            },
            "colorscale": [
             [
              0,
              "#0d0887"
             ],
             [
              0.1111111111111111,
              "#46039f"
             ],
             [
              0.2222222222222222,
              "#7201a8"
             ],
             [
              0.3333333333333333,
              "#9c179e"
             ],
             [
              0.4444444444444444,
              "#bd3786"
             ],
             [
              0.5555555555555556,
              "#d8576b"
             ],
             [
              0.6666666666666666,
              "#ed7953"
             ],
             [
              0.7777777777777778,
              "#fb9f3a"
             ],
             [
              0.8888888888888888,
              "#fdca26"
             ],
             [
              1,
              "#f0f921"
             ]
            ],
            "type": "surface"
           }
          ],
          "table": [
           {
            "cells": {
             "fill": {
              "color": "#EBF0F8"
             },
             "line": {
              "color": "white"
             }
            },
            "header": {
             "fill": {
              "color": "#C8D4E3"
             },
             "line": {
              "color": "white"
             }
            },
            "type": "table"
           }
          ]
         },
         "layout": {
          "annotationdefaults": {
           "arrowcolor": "#2a3f5f",
           "arrowhead": 0,
           "arrowwidth": 1
          },
          "autotypenumbers": "strict",
          "coloraxis": {
           "colorbar": {
            "outlinewidth": 0,
            "ticks": ""
           }
          },
          "colorscale": {
           "diverging": [
            [
             0,
             "#8e0152"
            ],
            [
             0.1,
             "#c51b7d"
            ],
            [
             0.2,
             "#de77ae"
            ],
            [
             0.3,
             "#f1b6da"
            ],
            [
             0.4,
             "#fde0ef"
            ],
            [
             0.5,
             "#f7f7f7"
            ],
            [
             0.6,
             "#e6f5d0"
            ],
            [
             0.7,
             "#b8e186"
            ],
            [
             0.8,
             "#7fbc41"
            ],
            [
             0.9,
             "#4d9221"
            ],
            [
             1,
             "#276419"
            ]
           ],
           "sequential": [
            [
             0,
             "#0d0887"
            ],
            [
             0.1111111111111111,
             "#46039f"
            ],
            [
             0.2222222222222222,
             "#7201a8"
            ],
            [
             0.3333333333333333,
             "#9c179e"
            ],
            [
             0.4444444444444444,
             "#bd3786"
            ],
            [
             0.5555555555555556,
             "#d8576b"
            ],
            [
             0.6666666666666666,
             "#ed7953"
            ],
            [
             0.7777777777777778,
             "#fb9f3a"
            ],
            [
             0.8888888888888888,
             "#fdca26"
            ],
            [
             1,
             "#f0f921"
            ]
           ],
           "sequentialminus": [
            [
             0,
             "#0d0887"
            ],
            [
             0.1111111111111111,
             "#46039f"
            ],
            [
             0.2222222222222222,
             "#7201a8"
            ],
            [
             0.3333333333333333,
             "#9c179e"
            ],
            [
             0.4444444444444444,
             "#bd3786"
            ],
            [
             0.5555555555555556,
             "#d8576b"
            ],
            [
             0.6666666666666666,
             "#ed7953"
            ],
            [
             0.7777777777777778,
             "#fb9f3a"
            ],
            [
             0.8888888888888888,
             "#fdca26"
            ],
            [
             1,
             "#f0f921"
            ]
           ]
          },
          "colorway": [
           "#636efa",
           "#EF553B",
           "#00cc96",
           "#ab63fa",
           "#FFA15A",
           "#19d3f3",
           "#FF6692",
           "#B6E880",
           "#FF97FF",
           "#FECB52"
          ],
          "font": {
           "color": "#2a3f5f"
          },
          "geo": {
           "bgcolor": "white",
           "lakecolor": "white",
           "landcolor": "#E5ECF6",
           "showlakes": true,
           "showland": true,
           "subunitcolor": "white"
          },
          "hoverlabel": {
           "align": "left"
          },
          "hovermode": "closest",
          "mapbox": {
           "style": "light"
          },
          "paper_bgcolor": "white",
          "plot_bgcolor": "#E5ECF6",
          "polar": {
           "angularaxis": {
            "gridcolor": "white",
            "linecolor": "white",
            "ticks": ""
           },
           "bgcolor": "#E5ECF6",
           "radialaxis": {
            "gridcolor": "white",
            "linecolor": "white",
            "ticks": ""
           }
          },
          "scene": {
           "xaxis": {
            "backgroundcolor": "#E5ECF6",
            "gridcolor": "white",
            "gridwidth": 2,
            "linecolor": "white",
            "showbackground": true,
            "ticks": "",
            "zerolinecolor": "white"
           },
           "yaxis": {
            "backgroundcolor": "#E5ECF6",
            "gridcolor": "white",
            "gridwidth": 2,
            "linecolor": "white",
            "showbackground": true,
            "ticks": "",
            "zerolinecolor": "white"
           },
           "zaxis": {
            "backgroundcolor": "#E5ECF6",
            "gridcolor": "white",
            "gridwidth": 2,
            "linecolor": "white",
            "showbackground": true,
            "ticks": "",
            "zerolinecolor": "white"
           }
          },
          "shapedefaults": {
           "line": {
            "color": "#2a3f5f"
           }
          },
          "ternary": {
           "aaxis": {
            "gridcolor": "white",
            "linecolor": "white",
            "ticks": ""
           },
           "baxis": {
            "gridcolor": "white",
            "linecolor": "white",
            "ticks": ""
           },
           "bgcolor": "#E5ECF6",
           "caxis": {
            "gridcolor": "white",
            "linecolor": "white",
            "ticks": ""
           }
          },
          "title": {
           "x": 0.05
          },
          "xaxis": {
           "automargin": true,
           "gridcolor": "white",
           "linecolor": "white",
           "ticks": "",
           "title": {
            "standoff": 15
           },
           "zerolinecolor": "white",
           "zerolinewidth": 2
          },
          "yaxis": {
           "automargin": true,
           "gridcolor": "white",
           "linecolor": "white",
           "ticks": "",
           "title": {
            "standoff": 15
           },
           "zerolinecolor": "white",
           "zerolinewidth": 2
          }
         }
        },
        "title": {
         "text": "PCA plot in 3D"
        },
        "width": 650
       }
      }
     },
     "metadata": {},
     "output_type": "display_data"
    }
   ],
   "source": [
    "# PCA\n",
    "pca = PCA(n_components=3)\n",
    "components = pca.fit_transform(X)\n",
    "\n",
    "# 3D scatterplot\n",
    "fig = px.scatter_3d(\n",
    "    components, x=0, y=1, z=2, color=clusters, size=0.1*np.ones(len(X)), opacity = 1,\n",
    "    title='PCA plot in 3D',\n",
    "    labels={'0': 'PC 1', '1': 'PC 2', '2': 'PC 3'},\n",
    "    width=650, height=500\n",
    ")\n",
    "fig.show()"
   ]
  },
  {
   "cell_type": "code",
   "execution_count": 11,
   "metadata": {},
   "outputs": [
    {
     "data": {
      "image/png": "[encoded data removed]",
      "text/plain": [
       "<Figure size 1000x500 with 1 Axes>"
      ]
     },
     "metadata": {},
     "output_type": "display_data"
    }
   ],
   "source": [
    "# PCA\n",
    "pca_var = PCA()\n",
    "pca_var.fit(X)\n",
    "\n",
    "# Plot\n",
    "plt.figure(figsize=(10,5))\n",
    "xi = np.arange(1, 1+X.shape[1], step=1)\n",
    "yi = np.cumsum(pca_var.explained_variance_ratio_)\n",
    "plt.plot(xi, yi, marker='o', linestyle='--', color='b')\n",
    "\n",
    "# Aesthetics\n",
    "plt.ylim(0.0,1.1)\n",
    "plt.xlabel('Number of Components')\n",
    "plt.xticks(np.arange(1, 1+X.shape[1], step=1))\n",
    "plt.ylabel('Cumulative variance (%)')\n",
    "plt.title('Explained variance by each component')\n",
    "plt.axhline(y=1, color='r', linestyle='-')\n",
    "plt.gca().xaxis.grid(False)"
   ]
  },
  {
   "cell_type": "markdown",
   "metadata": {},
   "source": [
    "T-Sne"
   ]
  },
  {
   "cell_type": "code",
   "execution_count": 12,
   "metadata": {},
   "outputs": [
    {
     "name": "stdout",
     "output_type": "stream",
     "text": [
      "(178, 2)\n"
     ]
    },
    {
     "data": {
      "text/html": [
       "<div>\n",
       "<style scoped>\n",
       "    .dataframe tbody tr th:only-of-type {\n",
       "        vertical-align: middle;\n",
       "    }\n",
       "\n",
       "    .dataframe tbody tr th {\n",
       "        vertical-align: top;\n",
       "    }\n",
       "\n",
       "    .dataframe thead th {\n",
       "        text-align: right;\n",
       "    }\n",
       "</style>\n",
       "<table border=\"1\" class=\"dataframe\">\n",
       "  <thead>\n",
       "    <tr style=\"text-align: right;\">\n",
       "      <th></th>\n",
       "      <th>tsne comp. 1</th>\n",
       "      <th>tsne comp. 2</th>\n",
       "    </tr>\n",
       "  </thead>\n",
       "  <tbody>\n",
       "    <tr>\n",
       "      <th>0</th>\n",
       "      <td>4.883506</td>\n",
       "      <td>10.328112</td>\n",
       "    </tr>\n",
       "    <tr>\n",
       "      <th>1</th>\n",
       "      <td>5.268616</td>\n",
       "      <td>6.855255</td>\n",
       "    </tr>\n",
       "    <tr>\n",
       "      <th>2</th>\n",
       "      <td>9.497834</td>\n",
       "      <td>8.310255</td>\n",
       "    </tr>\n",
       "    <tr>\n",
       "      <th>3</th>\n",
       "      <td>8.205545</td>\n",
       "      <td>11.031161</td>\n",
       "    </tr>\n",
       "    <tr>\n",
       "      <th>4</th>\n",
       "      <td>9.830220</td>\n",
       "      <td>4.094710</td>\n",
       "    </tr>\n",
       "  </tbody>\n",
       "</table>\n",
       "</div>"
      ],
      "text/plain": [
       "   tsne comp. 1  tsne comp. 2\n",
       "0      4.883506     10.328112\n",
       "1      5.268616      6.855255\n",
       "2      9.497834      8.310255\n",
       "3      8.205545     11.031161\n",
       "4      9.830220      4.094710"
      ]
     },
     "execution_count": 12,
     "metadata": {},
     "output_type": "execute_result"
    }
   ],
   "source": [
    "# t-SNE\n",
    "tsne = TSNE(n_components=2)\n",
    "X_tsne = tsne.fit_transform(X)\n",
    "\n",
    "# Convert to data frame\n",
    "tsne_df = pd.DataFrame(data = X_tsne, columns = ['tsne comp. 1', 'tsne comp. 2'])\n",
    "\n",
    "# Shape and preview\n",
    "print(tsne_df.shape)\n",
    "tsne_df.head()"
   ]
  },
  {
   "cell_type": "code",
   "execution_count": 13,
   "metadata": {},
   "outputs": [
    {
     "data": {
      "text/plain": [
       "Text(0, 0.5, 'tsne component 2')"
      ]
     },
     "execution_count": 13,
     "metadata": {},
     "output_type": "execute_result"
    },
    {
     "data": {
      "image/png": "[encoded data removed]",
      "text/plain": [
       "<Figure size 800x600 with 1 Axes>"
      ]
     },
     "metadata": {},
     "output_type": "display_data"
    }
   ],
   "source": [
    "# Figure size\n",
    "plt.figure(figsize=(8,6))\n",
    "\n",
    "# Scatterplot\n",
    "plt.scatter(tsne_df.iloc[:,0], tsne_df.iloc[:,1], c=clusters, cmap=\"brg\", s=40)\n",
    "\n",
    "# Aesthetics\n",
    "plt.title('t-SNE plot in 2D')\n",
    "plt.xlabel('tsne component 1')\n",
    "plt.ylabel('tsne component 2')"
   ]
  },
  {
   "cell_type": "code",
   "execution_count": 14,
   "metadata": {},
   "outputs": [
    {
     "data": {
      "application/vnd.plotly.v1+json": {
       "config": {
        "plotlyServerURL": "https://plot.ly"
       },
       "data": [
        {
         "hovertemplate": "comp. 1=%{x}<br>comp. 2=%{y}<br>comp. 3=%{z}<br>size=%{marker.size}<br>color=%{marker.color}<extra></extra>",
         "legendgroup": "",
         "marker": {
          "color": [
           2,
           2,
           2,
           2,
           2,
           2,
           2,
           2,
           2,
           2,
           2,
           2,
           2,
           2,
           2,
           2,
           2,
           2,
           2,
           2,
           2,
           2,
           2,
           2,
           2,
           2,
           2,
           2,
           2,
           2,
           2,
           2,
           2,
           2,
           2,
           2,
           2,
           2,
           2,
           2,
           2,
           2,
           2,
           2,
           2,
           2,
           2,
           2,
           2,
           2,
           2,
           2,
           2,
           2,
           2,
           2,
           2,
           2,
           2,
           0,
           0,
           1,
           0,
           0,
           0,
           0,
           0,
           0,
           0,
           0,
           0,
           0,
           0,
           2,
           0,
           0,
           0,
           0,
           0,
           0,
           0,
           0,
           0,
           1,
           0,
           0,
           0,
           0,
           0,
           0,
           0,
           0,
           0,
           0,
           0,
           2,
           0,
           0,
           0,
           0,
           0,
           0,
           0,
           0,
           0,
           0,
           0,
           0,
           0,
           0,
           0,
           0,
           0,
           0,
           0,
           0,
           0,
           0,
           1,
           0,
           0,
           2,
           0,
           0,
           0,
           0,
           0,
           0,
           0,
           0,
           1,
           1,
           1,
           1,
           1,
           1,
           1,
           1,
           1,
           1,
           1,
           1,
           1,
           1,
           1,
           1,
           1,
           1,
           1,
           1,
           1,
           1,
           1,
           1,
           1,
           1,
           1,
           1,
           1,
           1,
           1,
           1,
           1,
           1,
           1,
           1,
           1,
           1,
           1,
           1,
           1,
           1,
           1,
           1,
           1,
           1,
           1,
           1
          ],
          "coloraxis": "coloraxis",
          "opacity": 1,
          "size": [
           0.1,
           0.1,
           0.1,
           0.1,
           0.1,
           0.1,
           0.1,
           0.1,
           0.1,
           0.1,
           0.1,
           0.1,
           0.1,
           0.1,
           0.1,
           0.1,
           0.1,
           0.1,
           0.1,
           0.1,
           0.1,
           0.1,
           0.1,
           0.1,
           0.1,
           0.1,
           0.1,
           0.1,
           0.1,
           0.1,
           0.1,
           0.1,
           0.1,
           0.1,
           0.1,
           0.1,
           0.1,
           0.1,
           0.1,
           0.1,
           0.1,
           0.1,
           0.1,
           0.1,
           0.1,
           0.1,
           0.1,
           0.1,
           0.1,
           0.1,
           0.1,
           0.1,
           0.1,
           0.1,
           0.1,
           0.1,
           0.1,
           0.1,
           0.1,
           0.1,
           0.1,
           0.1,
           0.1,
           0.1,
           0.1,
           0.1,
           0.1,
           0.1,
           0.1,
           0.1,
           0.1,
           0.1,
           0.1,
           0.1,
           0.1,
           0.1,
           0.1,
           0.1,
           0.1,
           0.1,
           0.1,
           0.1,
           0.1,
           0.1,
           0.1,
           0.1,
           0.1,
           0.1,
           0.1,
           0.1,
           0.1,
           0.1,
           0.1,
           0.1,
           0.1,
           0.1,
           0.1,
           0.1,
           0.1,
           0.1,
           0.1,
           0.1,
           0.1,
           0.1,
           0.1,
           0.1,
           0.1,
           0.1,
           0.1,
           0.1,
           0.1,
           0.1,
           0.1,
           0.1,
           0.1,
           0.1,
           0.1,
           0.1,
           0.1,
           0.1,
           0.1,
           0.1,
           0.1,
           0.1,
           0.1,
           0.1,
           0.1,
           0.1,
           0.1,
           0.1,
           0.1,
           0.1,
           0.1,
           0.1,
           0.1,
           0.1,
           0.1,
           0.1,
           0.1,
           0.1,
           0.1,
           0.1,
           0.1,
           0.1,
           0.1,
           0.1,
           0.1,
           0.1,
           0.1,
           0.1,
           0.1,
           0.1,
           0.1,
           0.1,
           0.1,
           0.1,
           0.1,
           0.1,
           0.1,
           0.1,
           0.1,
           0.1,
           0.1,
           0.1,
           0.1,
           0.1,
           0.1,
           0.1,
           0.1,
           0.1,
           0.1,
           0.1,
           0.1,
           0.1,
           0.1,
           0.1,
           0.1,
           0.1
          ],
          "sizemode": "area",
          "sizeref": 0.00025,
          "symbol": "circle"
         },
         "mode": "markers",
         "name": "",
         "scene": "scene",
         "showlegend": false,
         "type": "scatter3d",
         "x": [
          36.860084533691406,
          9.101459503173828,
          36.4383544921875,
          46.461517333984375,
          31.420299530029297,
          45.72907638549805,
          24.777381896972656,
          35.387481689453125,
          19.342449188232422,
          28.039691925048828,
          37.444725036621094,
          18.32956314086914,
          24.904136657714844,
          28.082735061645508,
          36.273014068603516,
          36.197059631347656,
          45.614540100097656,
          38.900123596191406,
          46.43353271484375,
          27.589759826660156,
          29.278928756713867,
          21.0318546295166,
          16.36202621459961,
          14.401638984680176,
          19.142654418945312,
          38.188262939453125,
          25.310789108276367,
          14.003009796142578,
          29.758102416992188,
          19.071441650390625,
          40.209041595458984,
          37.66572952270508,
          23.35202407836914,
          44.89194869995117,
          25.89418601989746,
          20.1948184967041,
          27.059030532836914,
          19.259031295776367,
          7.476024150848389,
          31.042753219604492,
          24.636077880859375,
          11.76223087310791,
          31.871204376220703,
          15.245133399963379,
          16.864307403564453,
          21.164846420288086,
          18.41997528076172,
          23.993268966674805,
          33.68164825439453,
          36.72365951538086,
          28.750228881835938,
          29.02080535888672,
          42.20505905151367,
          42.51741027832031,
          24.394821166992188,
          43.25320053100586,
          31.528406143188477,
          33.43989181518555,
          38.09937286376953,
          -12.758103370666504,
          2.1052751541137695,
          -6.243051052093506,
          0.2351241558790207,
          -7.545162200927734,
          10.017468452453613,
          14.505743026733398,
          -6.483982086181641,
          -2.2879183292388916,
          0.9351162910461426,
          12.590204238891602,
          -19.47025489807129,
          19.33095359802246,
          -20.426795959472656,
          40.56985855102539,
          -0.6417043805122375,
          -10.041301727294922,
          -6.564820289611816,
          -9.953737258911133,
          14.211633682250977,
          10.000849723815918,
          -1.666770100593567,
          2.2964437007904053,
          6.92576265335083,
          -18.46584701538086,
          6.213172435760498,
          3.717177152633667,
          8.389005661010742,
          8.609161376953125,
          -1.2309236526489258,
          -1.7836973667144775,
          -1.5835003852844238,
          0.020856134593486786,
          -5.846227645874023,
          -4.979858875274658,
          -8.826009750366211,
          20.311559677124023,
          -19.72202491760254,
          -7.168864727020264,
          -1.7447937726974487,
          17.029211044311523,
          -12.651820182800293,
          -12.158507347106934,
          0.3935852348804474,
          -18.558860778808594,
          -6.296140670776367,
          -7.287503242492676,
          -6.751175880432129,
          -8.77656364440918,
          -15.548783302307129,
          3.3670573234558105,
          -6.169232368469238,
          -12.485515594482422,
          11.054327011108398,
          7.665274620056152,
          1.180891990661621,
          17.806350708007812,
          -10.642609596252441,
          0.5861695408821106,
          -16.610029220581055,
          -15.609199523925781,
          -2.8923041820526123,
          34.01142120361328,
          4.657268524169922,
          8.951543807983398,
          -0.24972720444202423,
          -6.470875263214111,
          -8.830140113830566,
          4.726068496704102,
          -7.747524261474609,
          -16.324676513671875,
          -26.387451171875,
          -28.499162673950195,
          -35.45389938354492,
          -33.45055389404297,
          -8.234660148620605,
          -16.424415588378906,
          -31.042537689208984,
          -39.75971603393555,
          -20.829425811767578,
          -41.69371795654297,
          -32.5335693359375,
          -27.379243850708008,
          -39.56476593017578,
          -25.645414352416992,
          -27.74694061279297,
          -27.940366744995117,
          -27.01114845275879,
          -29.235794067382812,
          -30.811513900756836,
          -37.595523834228516,
          -44.803714752197266,
          -43.13353729248047,
          -47.44697189331055,
          -31.544729232788086,
          -14.793651580810547,
          -38.751522064208984,
          -36.42783737182617,
          -46.8271369934082,
          -50.66944885253906,
          -44.46805191040039,
          -23.182575225830078,
          -37.277366638183594,
          -36.5183219909668,
          -29.385009765625,
          -34.2999153137207,
          -27.82034683227539,
          -44.85395431518555,
          -26.199716567993164,
          -44.744789123535156,
          -51.93008041381836,
          -21.253236770629883,
          -21.316055297851562,
          -38.358436584472656,
          -36.687679290771484,
          -37.83369064331055,
          -35.524696350097656,
          -32.71494674682617,
          -45.64640426635742
         ],
         "y": [
          36.459205627441406,
          16.92945671081543,
          -4.107269763946533,
          26.484642028808594,
          1.4808225631713867,
          17.239788055419922,
          13.105106353759766,
          21.128150939941406,
          18.50507926940918,
          21.779722213745117,
          8.537531852722168,
          5.755316257476807,
          8.701956748962402,
          13.717777252197266,
          16.906938552856445,
          12.207931518554688,
          6.182051658630371,
          3.8209474086761475,
          16.171218872070312,
          31.465848922729492,
          39.40354537963867,
          25.8336238861084,
          20.827136993408203,
          14.443939208984375,
          15.941367149353027,
          0.17548826336860657,
          14.784714698791504,
          8.804484367370605,
          10.230424880981445,
          18.453134536743164,
          -3.7409257888793945,
          11.512121200561523,
          -0.6292566657066345,
          9.001896858215332,
          9.293806076049805,
          21.77561378479004,
          0.8705606460571289,
          6.075868129730225,
          8.170578956604004,
          39.101680755615234,
          36.70973205566406,
          33.87355041503906,
          24.323566436767578,
          32.51790237426758,
          30.39371681213379,
          37.39080810546875,
          38.12116241455078,
          26.976043701171875,
          2.890946388244629,
          18.82769012451172,
          26.455228805541992,
          3.594547748565674,
          27.546466827392578,
          14.588388442993164,
          29.523990631103516,
          2.974377393722534,
          31.332242965698242,
          12.18567943572998,
          21.923385620117188,
          -3.225287437438965,
          -23.031869888305664,
          -25.502979278564453,
          -2.313547134399414,
          23.490734100341797,
          -13.958580017089844,
          0.5762365460395813,
          16.978872299194336,
          -2.7823657989501953,
          -26.531503677368164,
          -14.414752006530762,
          -12.881086349487305,
          13.0328369140625,
          10.64031982421875,
          -6.520359992980957,
          27.83174705505371,
          -6.551673412322998,
          4.255501747131348,
          -15.509763717651367,
          -14.482462882995605,
          13.994782447814941,
          5.982668876647949,
          13.20203685760498,
          -4.926675796508789,
          -15.831722259521484,
          17.084199905395508,
          4.625833034515381,
          -10.719993591308594,
          -10.970553398132324,
          -4.9710774421691895,
          -3.5300800800323486,
          -12.937249183654785,
          -13.224695205688477,
          -18.905757904052734,
          14.836861610412598,
          23.013280868530273,
          -15.799934387207031,
          -20.693931579589844,
          12.523324012756348,
          25.31756019592285,
          6.706233024597168,
          4.253476142883301,
          -3.304809093475342,
          13.509167671203613,
          3.4569714069366455,
          4.517164707183838,
          -14.68169116973877,
          -3.2175850868225098,
          -11.349082946777344,
          11.595049858093262,
          23.837610244750977,
          33.32765579223633,
          14.196173667907715,
          -21.678091049194336,
          -1.4971565008163452,
          4.328005790710449,
          -6.050197601318359,
          4.7049455642700195,
          5.4346699714660645,
          -15.712011337280273,
          -0.5994757413864136,
          20.614370346069336,
          -0.328047513961792,
          10.982643127441406,
          29.480106353759766,
          29.32076644897461,
          9.519792556762695,
          14.616645812988281,
          0.10185407102108002,
          5.206422805786133,
          -3.5179262161254883,
          -16.00248908996582,
          -20.96282196044922,
          -16.334850311279297,
          -23.153234481811523,
          -29.480501174926758,
          -28.7406063079834,
          -10.1299467086792,
          -13.373287200927734,
          -21.499481201171875,
          -6.209163188934326,
          -6.576850414276123,
          -12.610307693481445,
          -6.326925277709961,
          -12.747856140136719,
          -31.859987258911133,
          -20.949247360229492,
          -20.94734001159668,
          -29.477251052856445,
          -31.042951583862305,
          -29.933874130249023,
          -24.89310073852539,
          -33.5108757019043,
          -18.300352096557617,
          -43.09077072143555,
          -34.69937515258789,
          -28.82604217529297,
          -35.0263786315918,
          -16.150775909423828,
          -41.512481689453125,
          -44.80218505859375,
          -32.95919418334961,
          -15.10519027709961,
          -12.477286338806152,
          -21.980422973632812,
          -31.53786849975586,
          -20.827003479003906,
          -33.8815803527832,
          -33.93966293334961,
          -25.17378807067871,
          -28.23008155822754,
          -21.95578956604004,
          -38.79261779785156,
          -36.61306381225586,
          -23.32190704345703,
          -24.823348999023438,
          -39.16481399536133,
          -43.86781692504883,
          -29.343585968017578
         ],
         "z": [
          12.299501419067383,
          21.52986717224121,
          20.160749435424805,
          12.654191017150879,
          -8.804105758666992,
          16.506776809692383,
          24.562822341918945,
          -2.6752405166625977,
          29.90074348449707,
          18.779613494873047,
          26.586084365844727,
          21.391332626342773,
          16.838863372802734,
          36.828582763671875,
          35.00539016723633,
          0.5343636274337769,
          7.5474467277526855,
          2.9233016967773438,
          25.57645034790039,
          1.806733250617981,
          14.129373550415039,
          -8.030406951904297,
          11.533679962158203,
          4.387208938598633,
          -2.8405814170837402,
          -12.798788070678711,
          9.453014373779297,
          14.051274299621582,
          -7.372771263122559,
          19.563663482666016,
          10.173327445983887,
          18.451181411743164,
          11.400666236877441,
          -4.141026020050049,
          1.4343206882476807,
          2.957278251647949,
          0.23275788128376007,
          5.683084964752197,
          18.522905349731445,
          2.4854204654693604,
          21.355819702148438,
          -2.8444621562957764,
          8.642546653747559,
          -9.517369270324707,
          19.104135513305664,
          -3.5961358547210693,
          7.822927474975586,
          23.821332931518555,
          14.46007251739502,
          24.05316734313965,
          33.14073944091797,
          23.897493362426758,
          21.157297134399414,
          5.172101020812988,
          12.575267791748047,
          17.738000869750977,
          18.146120071411133,
          8.881697654724121,
          14.240816116333008,
          23.285717010498047,
          0.8312191367149353,
          1.7143325805664062,
          18.19761085510254,
          10.416231155395508,
          -5.256850719451904,
          -1.3419116735458374,
          19.316675186157227,
          5.961362838745117,
          7.421614646911621,
          24.115074157714844,
          9.644641876220703,
          -11.86574935913086,
          -14.478935241699219,
          -5.257556915283203,
          3.4934418201446533,
          13.350360870361328,
          19.21596336364746,
          8.196645736694336,
          17.21893310546875,
          -23.906686782836914,
          10.271234512329102,
          4.591580390930176,
          -20.317380905151367,
          -20.928573608398438,
          -7.1920390129089355,
          2.570770263671875,
          -13.714423179626465,
          -25.246797561645508,
          -13.926039695739746,
          -23.05914306640625,
          -8.132040977478027,
          -17.05607032775879,
          -13.035158157348633,
          -1.563817024230957,
          0.8357923626899719,
          21.519821166992188,
          21.5308837890625,
          9.639047622680664,
          14.143412590026855,
          -23.205354690551758,
          11.725723266601562,
          4.412404537200928,
          -16.438817977905273,
          -0.3235169053077698,
          1.8659934997558594,
          -24.19834327697754,
          -3.8082756996154785,
          -14.689318656921387,
          0.5884121656417847,
          -7.178775310516357,
          -13.841805458068848,
          -9.530844688415527,
          -11.0274658203125,
          -11.044475555419922,
          -17.336997985839844,
          -18.186582565307617,
          -4.8188862800598145,
          -6.357632637023926,
          -4.493935585021973,
          -10.154435157775879,
          -12.351667404174805,
          -20.559799194335938,
          -29.402708053588867,
          -19.437084197998047,
          -18.445589065551758,
          -12.6572265625,
          -20.18405532836914,
          -31.684640884399414,
          -21.000850677490234,
          -19.88470458984375,
          17.520238876342773,
          10.26148509979248,
          9.393994331359863,
          15.819672584533691,
          -6.708090305328369,
          -7.55276346206665,
          -23.638004302978516,
          -23.922298431396484,
          -13.000930786132812,
          -12.361734390258789,
          -8.218417167663574,
          -0.00618774676695466,
          -3.8518970012664795,
          -14.441596984863281,
          7.812362194061279,
          -6.488003730773926,
          -28.621414184570312,
          -22.078229904174805,
          -11.927984237670898,
          5.613805770874023,
          9.866312026977539,
          11.561016082763672,
          4.966946125030518,
          -13.277915954589844,
          -0.8698128461837769,
          -26.090810775756836,
          -17.924509048461914,
          -14.324511528015137,
          -12.197793960571289,
          -13.597891807556152,
          -17.272249221801758,
          -4.847059726715088,
          -13.088592529296875,
          1.2523716688156128,
          -3.8108327388763428,
          -18.332130432128906,
          -1.6630995273590088,
          -3.395397424697876,
          -3.3982994556427,
          3.160308837890625,
          2.064781904220581,
          -8.558614730834961,
          -8.960681915283203,
          -19.96405601501465,
          -9.786012649536133,
          4.639728546142578,
          -2.502272129058838,
          -14.609158515930176
         ]
        }
       ],
       "layout": {
        "coloraxis": {
         "colorbar": {
          "title": {
           "text": "color"
          }
         },
         "colorscale": [
          [
           0,
           "#0d0887"
          ],
          [
           0.1111111111111111,
           "#46039f"
          ],
          [
           0.2222222222222222,
           "#7201a8"
          ],
          [
           0.3333333333333333,
           "#9c179e"
          ],
          [
           0.4444444444444444,
           "#bd3786"
          ],
          [
           0.5555555555555556,
           "#d8576b"
          ],
          [
           0.6666666666666666,
           "#ed7953"
          ],
          [
           0.7777777777777778,
           "#fb9f3a"
          ],
          [
           0.8888888888888888,
           "#fdca26"
          ],
          [
           1,
           "#f0f921"
          ]
         ]
        },
        "height": 500,
        "legend": {
         "itemsizing": "constant",
         "tracegroupgap": 0
        },
        "scene": {
         "domain": {
          "x": [
           0,
           1
          ],
          "y": [
           0,
           1
          ]
         },
         "xaxis": {
          "title": {
           "text": "comp. 1"
          }
         },
         "yaxis": {
          "title": {
           "text": "comp. 2"
          }
         },
         "zaxis": {
          "title": {
           "text": "comp. 3"
          }
         }
        },
        "template": {
         "data": {
          "bar": [
           {
            "error_x": {
             "color": "#2a3f5f"
            },
            "error_y": {
             "color": "#2a3f5f"
            },
            "marker": {
             "line": {
              "color": "#E5ECF6",
              "width": 0.5
             },
             "pattern": {
              "fillmode": "overlay",
              "size": 10,
              "solidity": 0.2
             }
            },
            "type": "bar"
           }
          ],
          "barpolar": [
           {
            "marker": {
             "line": {
              "color": "#E5ECF6",
              "width": 0.5
             },
             "pattern": {
              "fillmode": "overlay",
              "size": 10,
              "solidity": 0.2
             }
            },
            "type": "barpolar"
           }
          ],
          "carpet": [
           {
            "aaxis": {
             "endlinecolor": "#2a3f5f",
             "gridcolor": "white",
             "linecolor": "white",
             "minorgridcolor": "white",
             "startlinecolor": "#2a3f5f"
            },
            "baxis": {
             "endlinecolor": "#2a3f5f",
             "gridcolor": "white",
             "linecolor": "white",
             "minorgridcolor": "white",
             "startlinecolor": "#2a3f5f"
            },
            "type": "carpet"
           }
          ],
          "choropleth": [
           {
            "colorbar": {
             "outlinewidth": 0,
             "ticks": ""
            },
            "type": "choropleth"
           }
          ],
          "contour": [
           {
            "colorbar": {
             "outlinewidth": 0,
             "ticks": ""
            },
            "colorscale": [
             [
              0,
              "#0d0887"
             ],
             [
              0.1111111111111111,
              "#46039f"
             ],
             [
              0.2222222222222222,
              "#7201a8"
             ],
             [
              0.3333333333333333,
              "#9c179e"
             ],
             [
              0.4444444444444444,
              "#bd3786"
             ],
             [
              0.5555555555555556,
              "#d8576b"
             ],
             [
              0.6666666666666666,
              "#ed7953"
             ],
             [
              0.7777777777777778,
              "#fb9f3a"
             ],
             [
              0.8888888888888888,
              "#fdca26"
             ],
             [
              1,
              "#f0f921"
             ]
            ],
            "type": "contour"
           }
          ],
          "contourcarpet": [
           {
            "colorbar": {
             "outlinewidth": 0,
             "ticks": ""
            },
            "type": "contourcarpet"
           }
          ],
          "heatmap": [
           {
            "colorbar": {
             "outlinewidth": 0,
             "ticks": ""
            },
            "colorscale": [
             [
              0,
              "#0d0887"
             ],
             [
              0.1111111111111111,
              "#46039f"
             ],
             [
              0.2222222222222222,
              "#7201a8"
             ],
             [
              0.3333333333333333,
              "#9c179e"
             ],
             [
              0.4444444444444444,
              "#bd3786"
             ],
             [
              0.5555555555555556,
              "#d8576b"
             ],
             [
              0.6666666666666666,
              "#ed7953"
             ],
             [
              0.7777777777777778,
              "#fb9f3a"
             ],
             [
              0.8888888888888888,
              "#fdca26"
             ],
             [
              1,
              "#f0f921"
             ]
            ],
            "type": "heatmap"
           }
          ],
          "heatmapgl": [
           {
            "colorbar": {
             "outlinewidth": 0,
             "ticks": ""
            },
            "colorscale": [
             [
              0,
              "#0d0887"
             ],
             [
              0.1111111111111111,
              "#46039f"
             ],
             [
              0.2222222222222222,
              "#7201a8"
             ],
             [
              0.3333333333333333,
              "#9c179e"
             ],
             [
              0.4444444444444444,
              "#bd3786"
             ],
             [
              0.5555555555555556,
              "#d8576b"
             ],
             [
              0.6666666666666666,
              "#ed7953"
             ],
             [
              0.7777777777777778,
              "#fb9f3a"
             ],
             [
              0.8888888888888888,
              "#fdca26"
             ],
             [
              1,
              "#f0f921"
             ]
            ],
            "type": "heatmapgl"
           }
          ],
          "histogram": [
           {
            "marker": {
             "pattern": {
              "fillmode": "overlay",
              "size": 10,
              "solidity": 0.2
             }
            },
            "type": "histogram"
           }
          ],
          "histogram2d": [
           {
            "colorbar": {
             "outlinewidth": 0,
             "ticks": ""
            },
            "colorscale": [
             [
              0,
              "#0d0887"
             ],
             [
              0.1111111111111111,
              "#46039f"
             ],
             [
              0.2222222222222222,
              "#7201a8"
             ],
             [
              0.3333333333333333,
              "#9c179e"
             ],
             [
              0.4444444444444444,
              "#bd3786"
             ],
             [
              0.5555555555555556,
              "#d8576b"
             ],
             [
              0.6666666666666666,
              "#ed7953"
             ],
             [
              0.7777777777777778,
              "#fb9f3a"
             ],
             [
              0.8888888888888888,
              "#fdca26"
             ],
             [
              1,
              "#f0f921"
             ]
            ],
            "type": "histogram2d"
           }
          ],
          "histogram2dcontour": [
           {
            "colorbar": {
             "outlinewidth": 0,
             "ticks": ""
            },
            "colorscale": [
             [
              0,
              "#0d0887"
             ],
             [
              0.1111111111111111,
              "#46039f"
             ],
             [
              0.2222222222222222,
              "#7201a8"
             ],
             [
              0.3333333333333333,
              "#9c179e"
             ],
             [
              0.4444444444444444,
              "#bd3786"
             ],
             [
              0.5555555555555556,
              "#d8576b"
             ],
             [
              0.6666666666666666,
              "#ed7953"
             ],
             [
              0.7777777777777778,
              "#fb9f3a"
             ],
             [
              0.8888888888888888,
              "#fdca26"
             ],
             [
              1,
              "#f0f921"
             ]
            ],
            "type": "histogram2dcontour"
           }
          ],
          "mesh3d": [
           {
            "colorbar": {
             "outlinewidth": 0,
             "ticks": ""
            },
            "type": "mesh3d"
           }
          ],
          "parcoords": [
           {
            "line": {
             "colorbar": {
              "outlinewidth": 0,
              "ticks": ""
             }
            },
            "type": "parcoords"
           }
          ],
          "pie": [
           {
            "automargin": true,
            "type": "pie"
           }
          ],
          "scatter": [
           {
            "fillpattern": {
             "fillmode": "overlay",
             "size": 10,
             "solidity": 0.2
            },
            "type": "scatter"
           }
          ],
          "scatter3d": [
           {
            "line": {
             "colorbar": {
              "outlinewidth": 0,
              "ticks": ""
             }
            },
            "marker": {
             "colorbar": {
              "outlinewidth": 0,
              "ticks": ""
             }
            },
            "type": "scatter3d"
           }
          ],
          "scattercarpet": [
           {
            "marker": {
             "colorbar": {
              "outlinewidth": 0,
              "ticks": ""
             }
            },
            "type": "scattercarpet"
           }
          ],
          "scattergeo": [
           {
            "marker": {
             "colorbar": {
              "outlinewidth": 0,
              "ticks": ""
             }
            },
            "type": "scattergeo"
           }
          ],
          "scattergl": [
           {
            "marker": {
             "colorbar": {
              "outlinewidth": 0,
              "ticks": ""
             }
            },
            "type": "scattergl"
           }
          ],
          "scattermapbox": [
           {
            "marker": {
             "colorbar": {
              "outlinewidth": 0,
              "ticks": ""
             }
            },
            "type": "scattermapbox"
           }
          ],
          "scatterpolar": [
           {
            "marker": {
             "colorbar": {
              "outlinewidth": 0,
              "ticks": ""
             }
            },
            "type": "scatterpolar"
           }
          ],
          "scatterpolargl": [
           {
            "marker": {
             "colorbar": {
              "outlinewidth": 0,
              "ticks": ""
             }
            },
            "type": "scatterpolargl"
           }
          ],
          "scatterternary": [
           {
            "marker": {
             "colorbar": {
              "outlinewidth": 0,
              "ticks": ""
             }
            },
            "type": "scatterternary"
           }
          ],
          "surface": [
           {
            "colorbar": {
             "outlinewidth": 0,
             "ticks": ""
            },
            "colorscale": [
             [
              0,
              "#0d0887"
             ],
             [
              0.1111111111111111,
              "#46039f"
             ],
             [
              0.2222222222222222,
              "#7201a8"
             ],
             [
              0.3333333333333333,
              "#9c179e"
             ],
             [
              0.4444444444444444,
              "#bd3786"
             ],
             [
              0.5555555555555556,
              "#d8576b"
             ],
             [
              0.6666666666666666,
              "#ed7953"
             ],
             [
              0.7777777777777778,
              "#fb9f3a"
             ],
             [
              0.8888888888888888,
              "#fdca26"
             ],
             [
              1,
              "#f0f921"
             ]
            ],
            "type": "surface"
           }
          ],
          "table": [
           {
            "cells": {
             "fill": {
              "color": "#EBF0F8"
             },
             "line": {
              "color": "white"
             }
            },
            "header": {
             "fill": {
              "color": "#C8D4E3"
             },
             "line": {
              "color": "white"
             }
            },
            "type": "table"
           }
          ]
         },
         "layout": {
          "annotationdefaults": {
           "arrowcolor": "#2a3f5f",
           "arrowhead": 0,
           "arrowwidth": 1
          },
          "autotypenumbers": "strict",
          "coloraxis": {
           "colorbar": {
            "outlinewidth": 0,
            "ticks": ""
           }
          },
          "colorscale": {
           "diverging": [
            [
             0,
             "#8e0152"
            ],
            [
             0.1,
             "#c51b7d"
            ],
            [
             0.2,
             "#de77ae"
            ],
            [
             0.3,
             "#f1b6da"
            ],
            [
             0.4,
             "#fde0ef"
            ],
            [
             0.5,
             "#f7f7f7"
            ],
            [
             0.6,
             "#e6f5d0"
            ],
            [
             0.7,
             "#b8e186"
            ],
            [
             0.8,
             "#7fbc41"
            ],
            [
             0.9,
             "#4d9221"
            ],
            [
             1,
             "#276419"
            ]
           ],
           "sequential": [
            [
             0,
             "#0d0887"
            ],
            [
             0.1111111111111111,
             "#46039f"
            ],
            [
             0.2222222222222222,
             "#7201a8"
            ],
            [
             0.3333333333333333,
             "#9c179e"
            ],
            [
             0.4444444444444444,
             "#bd3786"
            ],
            [
             0.5555555555555556,
             "#d8576b"
            ],
            [
             0.6666666666666666,
             "#ed7953"
            ],
            [
             0.7777777777777778,
             "#fb9f3a"
            ],
            [
             0.8888888888888888,
             "#fdca26"
            ],
            [
             1,
             "#f0f921"
            ]
           ],
           "sequentialminus": [
            [
             0,
             "#0d0887"
            ],
            [
             0.1111111111111111,
             "#46039f"
            ],
            [
             0.2222222222222222,
             "#7201a8"
            ],
            [
             0.3333333333333333,
             "#9c179e"
            ],
            [
             0.4444444444444444,
             "#bd3786"
            ],
            [
             0.5555555555555556,
             "#d8576b"
            ],
            [
             0.6666666666666666,
             "#ed7953"
            ],
            [
             0.7777777777777778,
             "#fb9f3a"
            ],
            [
             0.8888888888888888,
             "#fdca26"
            ],
            [
             1,
             "#f0f921"
            ]
           ]
          },
          "colorway": [
           "#636efa",
           "#EF553B",
           "#00cc96",
           "#ab63fa",
           "#FFA15A",
           "#19d3f3",
           "#FF6692",
           "#B6E880",
           "#FF97FF",
           "#FECB52"
          ],
          "font": {
           "color": "#2a3f5f"
          },
          "geo": {
           "bgcolor": "white",
           "lakecolor": "white",
           "landcolor": "#E5ECF6",
           "showlakes": true,
           "showland": true,
           "subunitcolor": "white"
          },
          "hoverlabel": {
           "align": "left"
          },
          "hovermode": "closest",
          "mapbox": {
           "style": "light"
          },
          "paper_bgcolor": "white",
          "plot_bgcolor": "#E5ECF6",
          "polar": {
           "angularaxis": {
            "gridcolor": "white",
            "linecolor": "white",
            "ticks": ""
           },
           "bgcolor": "#E5ECF6",
           "radialaxis": {
            "gridcolor": "white",
            "linecolor": "white",
            "ticks": ""
           }
          },
          "scene": {
           "xaxis": {
            "backgroundcolor": "#E5ECF6",
            "gridcolor": "white",
            "gridwidth": 2,
            "linecolor": "white",
            "showbackground": true,
            "ticks": "",
            "zerolinecolor": "white"
           },
           "yaxis": {
            "backgroundcolor": "#E5ECF6",
            "gridcolor": "white",
            "gridwidth": 2,
            "linecolor": "white",
            "showbackground": true,
            "ticks": "",
            "zerolinecolor": "white"
           },
           "zaxis": {
            "backgroundcolor": "#E5ECF6",
            "gridcolor": "white",
            "gridwidth": 2,
            "linecolor": "white",
            "showbackground": true,
            "ticks": "",
            "zerolinecolor": "white"
           }
          },
          "shapedefaults": {
           "line": {
            "color": "#2a3f5f"
           }
          },
          "ternary": {
           "aaxis": {
            "gridcolor": "white",
            "linecolor": "white",
            "ticks": ""
           },
           "baxis": {
            "gridcolor": "white",
            "linecolor": "white",
            "ticks": ""
           },
           "bgcolor": "#E5ECF6",
           "caxis": {
            "gridcolor": "white",
            "linecolor": "white",
            "ticks": ""
           }
          },
          "title": {
           "x": 0.05
          },
          "xaxis": {
           "automargin": true,
           "gridcolor": "white",
           "linecolor": "white",
           "ticks": "",
           "title": {
            "standoff": 15
           },
           "zerolinecolor": "white",
           "zerolinewidth": 2
          },
          "yaxis": {
           "automargin": true,
           "gridcolor": "white",
           "linecolor": "white",
           "ticks": "",
           "title": {
            "standoff": 15
           },
           "zerolinecolor": "white",
           "zerolinewidth": 2
          }
         }
        },
        "title": {
         "text": "t-SNE plot in 3D"
        },
        "width": 650
       }
      }
     },
     "metadata": {},
     "output_type": "display_data"
    }
   ],
   "source": [
    "# t-SNE\n",
    "tsne = TSNE(n_components=3)\n",
    "components_tsne = tsne.fit_transform(X)\n",
    "\n",
    "# 3D scatterplot\n",
    "fig = px.scatter_3d(\n",
    "    components_tsne, x=0, y=1, z=2, color=clusters, size=0.1*np.ones(len(X)), opacity = 1,\n",
    "    title='t-SNE plot in 3D',\n",
    "    labels={'0': 'comp. 1', '1': 'comp. 2', '2': 'comp. 3'},\n",
    "    width=650, height=500\n",
    ")\n",
    "fig.show()\n"
   ]
  }
 ],
 "metadata": {
  "kernelspec": {
   "display_name": "Python 3",
   "language": "python",
   "name": "python3"
  },
  "language_info": {
   "codemirror_mode": {
    "name": "ipython",
    "version": 3
   },
   "file_extension": ".py",
   "mimetype": "text/x-python",
   "name": "python",
   "nbconvert_exporter": "python",
   "pygments_lexer": "ipython3",
   "version": "3.11.5"
  }
 },
 "nbformat": 4,
 "nbformat_minor": 2
}
